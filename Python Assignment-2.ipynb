{
 "cells": [
  {
   "cell_type": "code",
   "execution_count": 7,
   "metadata": {},
   "outputs": [
    {
     "name": "stdout",
     "output_type": "stream",
     "text": [
      "Reverse word\n",
      "ineuron\n",
      "norueni\n"
     ]
    }
   ],
   "source": [
    "#2 Write a python program to reverse a word after accepting the input from the user.\n",
    "\n",
    "a= input(\"Reverse word\\n\")\n",
    "\n",
    "print (a[::-1])"
   ]
  },
  {
   "cell_type": "code",
   "execution_count": 11,
   "metadata": {},
   "outputs": [
    {
     "name": "stdout",
     "output_type": "stream",
     "text": [
      "* * * * * * * * * * * * * * * "
     ]
    }
   ],
   "source": [
    "#Create pattern using nested loop.\n",
    "\n",
    "for i in range (5):\n",
    "    for v in range (5-i):\n",
    "        print (\"*\", end=\" \")\n",
    "         \n",
    "    \n",
    "for k in range (5):\n",
    "    for o in range (k-5):\n",
    "        print(\"*\", end= \" \")\n",
    "        \n",
    "    \n",
    "        \n",
    "   \n",
    "\n",
    "    \n",
    "        "
   ]
  }
 ],
 "metadata": {
  "kernelspec": {
   "display_name": "Python 3",
   "language": "python",
   "name": "python3"
  },
  "language_info": {
   "codemirror_mode": {
    "name": "ipython",
    "version": 3
   },
   "file_extension": ".py",
   "mimetype": "text/x-python",
   "name": "python",
   "nbconvert_exporter": "python",
   "pygments_lexer": "ipython3",
   "version": "3.8.5"
  }
 },
 "nbformat": 4,
 "nbformat_minor": 4
}
