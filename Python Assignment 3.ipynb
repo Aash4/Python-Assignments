{
 "cells": [
  {
   "cell_type": "code",
   "execution_count": 3,
   "metadata": {},
   "outputs": [
    {
     "data": {
      "text/plain": [
       "['x', 'xx', 'xxx', 'xxxx', 'y', 'yy', 'yyy', 'yyyy', 'z', 'zz', 'zzz', 'zzzz']"
      ]
     },
     "execution_count": 3,
     "metadata": {},
     "output_type": "execute_result"
    }
   ],
   "source": [
    "#Python Assignment 3\n",
    "\n",
    "#2.\n",
    "\n",
    "[e for e in list(('x','xx','xxx','xxxx','y','yy','yyy','yyyy','z','zz','zzz','zzzz'))]"
   ]
  },
  {
   "cell_type": "code",
   "execution_count": 5,
   "metadata": {},
   "outputs": [
    {
     "data": {
      "text/plain": [
       "['x', 'y', 'z', 'xx', 'yy', 'zz', 'xxx', 'yyy', 'zzz', 'xxxx', 'yyyy', 'zzzz']"
      ]
     },
     "execution_count": 5,
     "metadata": {},
     "output_type": "execute_result"
    }
   ],
   "source": [
    "#2\n",
    "[c for c in list (('x','y','z','xx','yy','zz','xxx','yyy','zzz','xxxx','yyyy','zzzz'))]"
   ]
  },
  {
   "cell_type": "code",
   "execution_count": 16,
   "metadata": {},
   "outputs": [
    {
     "data": {
      "text/plain": [
       "[[2],\n",
       " [3],\n",
       " [4],\n",
       " [3],\n",
       " [4],\n",
       " [5],\n",
       " [4],\n",
       " [5],\n",
       " [6],\n",
       " [[2, 3, 4, 5], [3, 4, 5, 6], [4, 5, 6, 7], [5, 6, 7, 8]]]"
      ]
     },
     "execution_count": 16,
     "metadata": {},
     "output_type": "execute_result"
    }
   ],
   "source": [
    "#2\n",
    "[d for d in list(([2],[3],[4],[3],[4],[5], [4],[5],[6],[[2,3,4,5], [3,4,5,6],[4,5,6,7],[5,6,7,8]]))]"
   ]
  },
  {
   "cell_type": "code",
   "execution_count": 19,
   "metadata": {},
   "outputs": [
    {
     "data": {
      "text/plain": [
       "[(1, 1), (2, 1), (3, 1), (1, 2), (2, 2), (3, 2), (1, 3), (2, 3), (3, 3)]"
      ]
     },
     "execution_count": 19,
     "metadata": {},
     "output_type": "execute_result"
    }
   ],
   "source": [
    "#2\n",
    "[t for t in list(((1,1), (2,1), (3,1), (1,2), (2,2),(3,2),(1,3),(2,3),(3,3)))]\n",
    " "
   ]
  },
  {
   "cell_type": "code",
   "execution_count": 86,
   "metadata": {},
   "outputs": [
    {
     "name": "stdout",
     "output_type": "stream",
     "text": [
      "[3, 5, 7, 9, 17, 19, 21, 23, 25, 27, 31, 33, 35]\n"
     ]
    }
   ],
   "source": [
    "#Python Assignment 3\n",
    "\n",
    "#1. Printing Odd numbers from list creating filter fucntion.\n",
    "\n",
    "def createfilter(odd_numbers,w):\n",
    "    return odd_numbers(a)\n",
    "w=[2,3,4,5,6,7,8,9,10,17,19,20,21,23,25,27,30,31,33,34,35]\n",
    "v=[]\n",
    "def odd_numbers(a):\n",
    "    for i in w:\n",
    "        if i%2!=0:\n",
    "            v.append(i)\n",
    "    \n",
    "createfilter(odd_numbers,w)\n",
    "print (v)"
   ]
  },
  {
   "cell_type": "code",
   "execution_count": 100,
   "metadata": {},
   "outputs": [
    {
     "name": "stdout",
     "output_type": "stream",
     "text": [
      "11879\n"
     ]
    }
   ],
   "source": [
    "# 1.Reduce Function\n",
    "\n",
    "def createreduce(abc,s):\n",
    "    return a\n",
    "def xyz(a,b):\n",
    "    return a+b\n",
    "s=[70,30,700,912,840,9327]\n",
    "a=s[0]\n",
    "for i in range(1,len(s)):\n",
    "    b=s[i]\n",
    "    a=xyz(a,b)\n",
    "    \n",
    "print(createreduce(abc,s))\n"
   ]
  }
 ],
 "metadata": {
  "kernelspec": {
   "display_name": "Python 3",
   "language": "python",
   "name": "python3"
  },
  "language_info": {
   "codemirror_mode": {
    "name": "ipython",
    "version": 3
   },
   "file_extension": ".py",
   "mimetype": "text/x-python",
   "name": "python",
   "nbconvert_exporter": "python",
   "pygments_lexer": "ipython3",
   "version": "3.8.5"
  }
 },
 "nbformat": 4,
 "nbformat_minor": 4
}
